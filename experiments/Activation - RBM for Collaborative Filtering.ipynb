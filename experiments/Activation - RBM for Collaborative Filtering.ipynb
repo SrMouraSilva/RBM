{
 "cells": [
  {
   "cell_type": "markdown",
   "metadata": {},
   "source": [
    "# RBM for Collaborative Filtering\n",
    "\n",
    "## Activation of visible layer\n"
   ]
  },
  {
   "cell_type": "code",
   "execution_count": 1,
   "metadata": {},
   "outputs": [],
   "source": [
    "import tensorflow as tf\n",
    "import numpy as np\n",
    "\n",
    "from rbm.util.util import softmax, Σ\n",
    "\n",
    "session = tf.InteractiveSession()"
   ]
  },
  {
   "cell_type": "markdown",
   "metadata": {},
   "source": [
    "### Parameters"
   ]
  },
  {
   "cell_type": "code",
   "execution_count": 2,
   "metadata": {},
   "outputs": [],
   "source": [
    "movies = 4\n",
    "ratings = 3\n",
    "users = 2\n",
    "\n",
    "visible_size = movies*ratings\n",
    "hidden_size = 3\n",
    "visible_shape = [users, visible_size]\n",
    "\n",
    "hidden_sample = tf.constant([[0., 0., 1.]], dtype=tf.float32).T"
   ]
  },
  {
   "cell_type": "code",
   "execution_count": 3,
   "metadata": {},
   "outputs": [
    {
     "name": "stdout",
     "output_type": "stream",
     "text": [
      "User ratings\n"
     ]
    },
    {
     "data": {
      "text/plain": [
       "array([[[0., 1., 0.],\n",
       "        [0., 0., 1.],\n",
       "        [0., 0., 1.],\n",
       "        [1., 0., 0.]],\n",
       "\n",
       "       [[1., 0., 0.],\n",
       "        [0., 1., 0.],\n",
       "        [0., 0., 1.],\n",
       "        [0., 1., 0.]]], dtype=float32)"
      ]
     },
     "execution_count": 3,
     "metadata": {},
     "output_type": "execute_result"
    }
   ],
   "source": [
    "users_ratings = np.array((\n",
    "    (1, 2, 2, 0), # User 1\n",
    "    (0, 1, 2, 1)  # User 2\n",
    "))\n",
    "\n",
    "def assign_rating(value):\n",
    "    response = [0]*ratings\n",
    "    response[value] = 1.\n",
    "    return response\n",
    "\n",
    "# Hidden and visible values\n",
    "data = tf.constant(\n",
    "    np.array(list(map(assign_rating, users_ratings.reshape([-1])))).reshape(visible_shape),\n",
    "    dtype=tf.float32\n",
    ")\n",
    "\n",
    "print('User ratings')\n",
    "tf.reshape(data, [users, -1, ratings]).eval()"
   ]
  },
  {
   "cell_type": "code",
   "execution_count": 4,
   "metadata": {},
   "outputs": [],
   "source": [
    "# Params values\n",
    "W = 0.01 * tf.random_normal([hidden_size, visible_size], dtype=tf.float32)\n",
    "b_v = 0.01 * tf.random_normal([visible_size, 1], dtype=tf.float32)\n",
    "b_h = 0.01 * tf.random_normal([hidden_size, 1], dtype=tf.float32)"
   ]
  },
  {
   "cell_type": "markdown",
   "metadata": {},
   "source": [
    "### Probability"
   ]
  },
  {
   "cell_type": "code",
   "execution_count": 5,
   "metadata": {},
   "outputs": [],
   "source": [
    "x_sigmoid = hidden_sample.T @ W + b_v.T\n",
    "\n",
    "# Remove all the movie have not been rating\n",
    "# In really, remove all the movie-rating probabilities\n",
    "mask = tf.sign(data)\n",
    "x_maked = x_sigmoid * mask\n",
    "\n",
    "# Reshape for apply softmax correctly\n",
    "x = tf.reshape(x_maked, [users, -1, ratings])\n",
    "\n",
    "# Calc probability\n",
    "probabilies = softmax(x)\n",
    "\n",
    "probabilies = tf.reshape(probabilies, [users, -1])"
   ]
  },
  {
   "cell_type": "markdown",
   "metadata": {},
   "source": [
    "### Sample"
   ]
  },
  {
   "cell_type": "code",
   "execution_count": 6,
   "metadata": {
    "scrolled": true
   },
   "outputs": [
    {
     "name": "stdout",
     "output_type": "stream",
     "text": [
      "The generate samples does not respect the restriction\n"
     ]
    },
    {
     "data": {
      "text/plain": [
       "array([[[0., 0., 0.],\n",
       "        [0., 1., 0.],\n",
       "        [1., 0., 0.],\n",
       "        [0., 1., 1.]],\n",
       "\n",
       "       [[1., 0., 1.],\n",
       "        [1., 0., 0.],\n",
       "        [0., 0., 1.],\n",
       "        [1., 0., 1.]]], dtype=float32)"
      ]
     },
     "execution_count": 6,
     "metadata": {},
     "output_type": "execute_result"
    }
   ],
   "source": [
    "samples = tf.nn.relu(tf.sign(probabilies - tf.random_uniform(tf.shape(probabilies))))\n",
    "\n",
    "print('The generate samples does not respect the restriction')\n",
    "tf.reshape(samples, [users, -1, ratings]).eval()"
   ]
  },
  {
   "cell_type": "markdown",
   "metadata": {},
   "source": [
    "## A simple test with argmax"
   ]
  },
  {
   "cell_type": "code",
   "execution_count": 7,
   "metadata": {},
   "outputs": [
    {
     "name": "stdout",
     "output_type": "stream",
     "text": [
      "[[[ 2.4445081e-02 -1.7063871e-02 -9.4049480e-03]\n",
      "  [-2.5904500e-03 -5.4858215e-03 -3.0523026e-04]]\n",
      "\n",
      " [[ 5.1682736e-03 -2.1227937e-02  8.8326400e-05]\n",
      "  [ 1.1481711e-02  2.0785579e-03  1.7699871e-02]]]\n"
     ]
    },
    {
     "data": {
      "text/plain": [
       "array([[0, 2],\n",
       "       [0, 2]])"
      ]
     },
     "execution_count": 7,
     "metadata": {},
     "output_type": "execute_result"
    }
   ],
   "source": [
    "probabilies_calculated = probabilies.eval()\n",
    "\n",
    "c = x_sigmoid.eval()\n",
    "\n",
    "print(tf.reshape(c, [users, -1, ratings]).eval())\n",
    "tf.argmax(tf.reshape(c, [users, -1, ratings]), axis=2).eval()"
   ]
  }
 ],
 "metadata": {
  "kernelspec": {
   "display_name": "Python 3",
   "language": "python",
   "name": "python3"
  },
  "language_info": {
   "codemirror_mode": {
    "name": "ipython",
    "version": 3
   },
   "file_extension": ".py",
   "mimetype": "text/x-python",
   "name": "python",
   "nbconvert_exporter": "python",
   "pygments_lexer": "ipython3",
   "version": "3.6.6"
  }
 },
 "nbformat": 4,
 "nbformat_minor": 2
}
