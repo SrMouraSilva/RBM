{
 "cells": [
  {
   "cell_type": "markdown",
   "metadata": {},
   "source": [
    "## Inspect result after hide one, two, ..., five items\n",
    "\n",
    "### RBM hidden=10000"
   ]
  },
  {
   "cell_type": "code",
   "execution_count": 1,
   "metadata": {},
   "outputs": [],
   "source": [
    "model = {}"
   ]
  },
  {
   "cell_type": "code",
   "execution_count": 2,
   "metadata": {},
   "outputs": [
    {
     "data": {
      "text/html": [
       "<div>\n",
       "<style scoped>\n",
       "    .dataframe tbody tr th:only-of-type {\n",
       "        vertical-align: middle;\n",
       "    }\n",
       "\n",
       "    .dataframe tbody tr th {\n",
       "        vertical-align: top;\n",
       "    }\n",
       "\n",
       "    .dataframe thead tr th {\n",
       "        text-align: left;\n",
       "    }\n",
       "\n",
       "    .dataframe thead tr:last-of-type th {\n",
       "        text-align: right;\n",
       "    }\n",
       "</style>\n",
       "<table border=\"1\" class=\"dataframe\">\n",
       "  <thead>\n",
       "    <tr>\n",
       "      <th></th>\n",
       "      <th colspan=\"4\" halign=\"left\">mean</th>\n",
       "      <th colspan=\"4\" halign=\"left\">std</th>\n",
       "    </tr>\n",
       "    <tr>\n",
       "      <th>metric</th>\n",
       "      <th>Accuracy</th>\n",
       "      <th>Hit@5</th>\n",
       "      <th>MAP@5</th>\n",
       "      <th>MDCG</th>\n",
       "      <th>Accuracy</th>\n",
       "      <th>Hit@5</th>\n",
       "      <th>MAP@5</th>\n",
       "      <th>MDCG</th>\n",
       "    </tr>\n",
       "    <tr>\n",
       "      <th>total_missing</th>\n",
       "      <th></th>\n",
       "      <th></th>\n",
       "      <th></th>\n",
       "      <th></th>\n",
       "      <th></th>\n",
       "      <th></th>\n",
       "      <th></th>\n",
       "      <th></th>\n",
       "    </tr>\n",
       "  </thead>\n",
       "  <tbody>\n",
       "    <tr>\n",
       "      <th>1</th>\n",
       "      <td>0.308956</td>\n",
       "      <td>0.504236</td>\n",
       "      <td>0.310148</td>\n",
       "      <td>0.526222</td>\n",
       "      <td>0.138047</td>\n",
       "      <td>0.134807</td>\n",
       "      <td>0.153247</td>\n",
       "      <td>0.108640</td>\n",
       "    </tr>\n",
       "    <tr>\n",
       "      <th>2</th>\n",
       "      <td>0.293866</td>\n",
       "      <td>0.490090</td>\n",
       "      <td>0.299615</td>\n",
       "      <td>0.514232</td>\n",
       "      <td>0.138268</td>\n",
       "      <td>0.137843</td>\n",
       "      <td>0.154091</td>\n",
       "      <td>0.109708</td>\n",
       "    </tr>\n",
       "    <tr>\n",
       "      <th>3</th>\n",
       "      <td>0.270424</td>\n",
       "      <td>0.468710</td>\n",
       "      <td>0.284585</td>\n",
       "      <td>0.495432</td>\n",
       "      <td>0.139843</td>\n",
       "      <td>0.147122</td>\n",
       "      <td>0.161543</td>\n",
       "      <td>0.113643</td>\n",
       "    </tr>\n",
       "    <tr>\n",
       "      <th>4</th>\n",
       "      <td>0.236070</td>\n",
       "      <td>0.435230</td>\n",
       "      <td>0.265492</td>\n",
       "      <td>0.467443</td>\n",
       "      <td>0.138019</td>\n",
       "      <td>0.156902</td>\n",
       "      <td>0.171506</td>\n",
       "      <td>0.116028</td>\n",
       "    </tr>\n",
       "    <tr>\n",
       "      <th>5</th>\n",
       "      <td>0.190834</td>\n",
       "      <td>0.391108</td>\n",
       "      <td>0.242385</td>\n",
       "      <td>0.430177</td>\n",
       "      <td>0.136446</td>\n",
       "      <td>0.166374</td>\n",
       "      <td>0.182465</td>\n",
       "      <td>0.118258</td>\n",
       "    </tr>\n",
       "  </tbody>\n",
       "</table>\n",
       "</div>"
      ],
      "text/plain": [
       "                   mean                                     std            \\\n",
       "metric         Accuracy     Hit@5     MAP@5      MDCG  Accuracy     Hit@5   \n",
       "total_missing                                                               \n",
       "1              0.308956  0.504236  0.310148  0.526222  0.138047  0.134807   \n",
       "2              0.293866  0.490090  0.299615  0.514232  0.138268  0.137843   \n",
       "3              0.270424  0.468710  0.284585  0.495432  0.139843  0.147122   \n",
       "4              0.236070  0.435230  0.265492  0.467443  0.138019  0.156902   \n",
       "5              0.190834  0.391108  0.242385  0.430177  0.136446  0.166374   \n",
       "\n",
       "                                   \n",
       "metric            MAP@5      MDCG  \n",
       "total_missing                      \n",
       "1              0.153247  0.108640  \n",
       "2              0.154091  0.109708  \n",
       "3              0.161543  0.113643  \n",
       "4              0.171506  0.116028  \n",
       "5              0.182465  0.118258  "
      ]
     },
     "execution_count": 2,
     "metadata": {},
     "output_type": "execute_result"
    }
   ],
   "source": [
    "import numpy as np\n",
    "import pandas as pd\n",
    "\n",
    "data = pd.read_csv('../rbm_results-early-10000.csv', index_col=0)\n",
    "data['total_missing'] = data['missing'].str.split(',').str.len() + 1\n",
    "data['total_missing'] = np.where(data['missing'] == 'set()', 1, data['total_missing'])\n",
    "\n",
    "model['RBM-CF 10000'] = data\n",
    "\n",
    "rbm_pivot_10000 = data.groupby(['metric', 'total_missing'])['value'].agg([\"mean\", \"std\"]) \\\n",
    "    .pivot_table(index=['total_missing'], columns='metric', values=['mean', 'std'])\n",
    "rbm_pivot_10000"
   ]
  },
  {
   "cell_type": "markdown",
   "metadata": {},
   "source": [
    "### RBM hidden=1000"
   ]
  },
  {
   "cell_type": "code",
   "execution_count": 3,
   "metadata": {},
   "outputs": [],
   "source": [
    "#data = pd.read_csv('../rbm_results-early-1000.csv', index_col=0)\n",
    "#data['total_missing'] = data['missing'].str.split(',').str.len() + 1\n",
    "#data['total_missing'] = np.where(data['missing'] == 'set()', 1, data['total_missing'])\n",
    "\n",
    "#model['RBM-CF 1000'] = data\n",
    "\n",
    "#rbm_pivot_1000 = data.groupby(['metric', 'total_missing'])['value'].agg([\"mean\", \"std\"]) \\\n",
    "#    .pivot_table(index=['total_missing'], columns='metric', values=['mean', 'std'])\n",
    "#rbm_pivot_1000"
   ]
  },
  {
   "cell_type": "markdown",
   "metadata": {},
   "source": [
    "### Frequency"
   ]
  },
  {
   "cell_type": "code",
   "execution_count": 4,
   "metadata": {},
   "outputs": [
    {
     "data": {
      "text/html": [
       "<div>\n",
       "<style scoped>\n",
       "    .dataframe tbody tr th:only-of-type {\n",
       "        vertical-align: middle;\n",
       "    }\n",
       "\n",
       "    .dataframe tbody tr th {\n",
       "        vertical-align: top;\n",
       "    }\n",
       "\n",
       "    .dataframe thead tr th {\n",
       "        text-align: left;\n",
       "    }\n",
       "\n",
       "    .dataframe thead tr:last-of-type th {\n",
       "        text-align: right;\n",
       "    }\n",
       "</style>\n",
       "<table border=\"1\" class=\"dataframe\">\n",
       "  <thead>\n",
       "    <tr>\n",
       "      <th></th>\n",
       "      <th colspan=\"4\" halign=\"left\">mean</th>\n",
       "      <th colspan=\"4\" halign=\"left\">std</th>\n",
       "    </tr>\n",
       "    <tr>\n",
       "      <th>metric</th>\n",
       "      <th>Accuracy</th>\n",
       "      <th>Hit@5</th>\n",
       "      <th>MAP@5</th>\n",
       "      <th>MDCG</th>\n",
       "      <th>Accuracy</th>\n",
       "      <th>Hit@5</th>\n",
       "      <th>MAP@5</th>\n",
       "      <th>MDCG</th>\n",
       "    </tr>\n",
       "    <tr>\n",
       "      <th>total_missing</th>\n",
       "      <th></th>\n",
       "      <th></th>\n",
       "      <th></th>\n",
       "      <th></th>\n",
       "      <th></th>\n",
       "      <th></th>\n",
       "      <th></th>\n",
       "      <th></th>\n",
       "    </tr>\n",
       "  </thead>\n",
       "  <tbody>\n",
       "    <tr>\n",
       "      <th>1</th>\n",
       "      <td>0.251114</td>\n",
       "      <td>0.45534</td>\n",
       "      <td>0.305165</td>\n",
       "      <td>0.484906</td>\n",
       "      <td>0.141620</td>\n",
       "      <td>0.164311</td>\n",
       "      <td>0.163485</td>\n",
       "      <td>0.121722</td>\n",
       "    </tr>\n",
       "    <tr>\n",
       "      <th>2</th>\n",
       "      <td>0.251114</td>\n",
       "      <td>0.45534</td>\n",
       "      <td>0.305165</td>\n",
       "      <td>0.484906</td>\n",
       "      <td>0.139706</td>\n",
       "      <td>0.162090</td>\n",
       "      <td>0.161276</td>\n",
       "      <td>0.120077</td>\n",
       "    </tr>\n",
       "    <tr>\n",
       "      <th>3</th>\n",
       "      <td>0.251114</td>\n",
       "      <td>0.45534</td>\n",
       "      <td>0.305165</td>\n",
       "      <td>0.484906</td>\n",
       "      <td>0.139472</td>\n",
       "      <td>0.161819</td>\n",
       "      <td>0.161006</td>\n",
       "      <td>0.119876</td>\n",
       "    </tr>\n",
       "    <tr>\n",
       "      <th>4</th>\n",
       "      <td>0.251114</td>\n",
       "      <td>0.45534</td>\n",
       "      <td>0.305165</td>\n",
       "      <td>0.484906</td>\n",
       "      <td>0.139472</td>\n",
       "      <td>0.161819</td>\n",
       "      <td>0.161006</td>\n",
       "      <td>0.119876</td>\n",
       "    </tr>\n",
       "    <tr>\n",
       "      <th>5</th>\n",
       "      <td>0.251114</td>\n",
       "      <td>0.45534</td>\n",
       "      <td>0.305165</td>\n",
       "      <td>0.484906</td>\n",
       "      <td>0.139706</td>\n",
       "      <td>0.162090</td>\n",
       "      <td>0.161276</td>\n",
       "      <td>0.120077</td>\n",
       "    </tr>\n",
       "  </tbody>\n",
       "</table>\n",
       "</div>"
      ],
      "text/plain": [
       "                   mean                                    std            \\\n",
       "metric         Accuracy    Hit@5     MAP@5      MDCG  Accuracy     Hit@5   \n",
       "total_missing                                                              \n",
       "1              0.251114  0.45534  0.305165  0.484906  0.141620  0.164311   \n",
       "2              0.251114  0.45534  0.305165  0.484906  0.139706  0.162090   \n",
       "3              0.251114  0.45534  0.305165  0.484906  0.139472  0.161819   \n",
       "4              0.251114  0.45534  0.305165  0.484906  0.139472  0.161819   \n",
       "5              0.251114  0.45534  0.305165  0.484906  0.139706  0.162090   \n",
       "\n",
       "                                   \n",
       "metric            MAP@5      MDCG  \n",
       "total_missing                      \n",
       "1              0.163485  0.121722  \n",
       "2              0.161276  0.120077  \n",
       "3              0.161006  0.119876  \n",
       "4              0.161006  0.119876  \n",
       "5              0.161276  0.120077  "
      ]
     },
     "execution_count": 4,
     "metadata": {},
     "output_type": "execute_result"
    }
   ],
   "source": [
    "data = pd.read_csv('../common_results.csv', index_col=0)\n",
    "data['total_missing'] = data['missing'].str.split(',').str.len() + 1\n",
    "#data = data[nn_data['fold'] == 1]\n",
    "data['total_missing'] = np.where(data['missing'] == 'set()', 1, data['total_missing'])\n",
    "\n",
    "#model['Frequency'] = data\n",
    "\n",
    "common_pivot = data.groupby(['metric', 'total_missing'])['value'].agg([\"mean\", \"std\"]) \\\n",
    "    .pivot_table(index=['total_missing'], columns='metric', values=['mean', 'std'])\n",
    "\n",
    "common_pivot"
   ]
  },
  {
   "cell_type": "markdown",
   "metadata": {},
   "source": [
    "### KNN"
   ]
  },
  {
   "cell_type": "code",
   "execution_count": 5,
   "metadata": {},
   "outputs": [
    {
     "data": {
      "text/html": [
       "<div>\n",
       "<style scoped>\n",
       "    .dataframe tbody tr th:only-of-type {\n",
       "        vertical-align: middle;\n",
       "    }\n",
       "\n",
       "    .dataframe tbody tr th {\n",
       "        vertical-align: top;\n",
       "    }\n",
       "\n",
       "    .dataframe thead tr th {\n",
       "        text-align: left;\n",
       "    }\n",
       "\n",
       "    .dataframe thead tr:last-of-type th {\n",
       "        text-align: right;\n",
       "    }\n",
       "</style>\n",
       "<table border=\"1\" class=\"dataframe\">\n",
       "  <thead>\n",
       "    <tr>\n",
       "      <th></th>\n",
       "      <th colspan=\"4\" halign=\"left\">mean</th>\n",
       "      <th colspan=\"4\" halign=\"left\">std</th>\n",
       "    </tr>\n",
       "    <tr>\n",
       "      <th>metric</th>\n",
       "      <th>Accuracy</th>\n",
       "      <th>Hit@5</th>\n",
       "      <th>MAP@5</th>\n",
       "      <th>MDCG</th>\n",
       "      <th>Accuracy</th>\n",
       "      <th>Hit@5</th>\n",
       "      <th>MAP@5</th>\n",
       "      <th>MDCG</th>\n",
       "    </tr>\n",
       "    <tr>\n",
       "      <th>total_missing</th>\n",
       "      <th></th>\n",
       "      <th></th>\n",
       "      <th></th>\n",
       "      <th></th>\n",
       "      <th></th>\n",
       "      <th></th>\n",
       "      <th></th>\n",
       "      <th></th>\n",
       "    </tr>\n",
       "  </thead>\n",
       "  <tbody>\n",
       "    <tr>\n",
       "      <th>1</th>\n",
       "      <td>0.356083</td>\n",
       "      <td>0.525216</td>\n",
       "      <td>0.303942</td>\n",
       "      <td>0.544766</td>\n",
       "      <td>0.131148</td>\n",
       "      <td>0.128174</td>\n",
       "      <td>0.155788</td>\n",
       "      <td>0.103685</td>\n",
       "    </tr>\n",
       "    <tr>\n",
       "      <th>2</th>\n",
       "      <td>0.344266</td>\n",
       "      <td>0.513771</td>\n",
       "      <td>0.301694</td>\n",
       "      <td>0.534732</td>\n",
       "      <td>0.135252</td>\n",
       "      <td>0.128325</td>\n",
       "      <td>0.153770</td>\n",
       "      <td>0.105935</td>\n",
       "    </tr>\n",
       "    <tr>\n",
       "      <th>3</th>\n",
       "      <td>0.327145</td>\n",
       "      <td>0.493465</td>\n",
       "      <td>0.298031</td>\n",
       "      <td>0.519355</td>\n",
       "      <td>0.138631</td>\n",
       "      <td>0.136337</td>\n",
       "      <td>0.153436</td>\n",
       "      <td>0.110931</td>\n",
       "    </tr>\n",
       "    <tr>\n",
       "      <th>4</th>\n",
       "      <td>0.303932</td>\n",
       "      <td>0.466727</td>\n",
       "      <td>0.292534</td>\n",
       "      <td>0.498830</td>\n",
       "      <td>0.143229</td>\n",
       "      <td>0.144474</td>\n",
       "      <td>0.153784</td>\n",
       "      <td>0.116327</td>\n",
       "    </tr>\n",
       "    <tr>\n",
       "      <th>5</th>\n",
       "      <td>0.278281</td>\n",
       "      <td>0.431850</td>\n",
       "      <td>0.286343</td>\n",
       "      <td>0.474405</td>\n",
       "      <td>0.147527</td>\n",
       "      <td>0.154774</td>\n",
       "      <td>0.154991</td>\n",
       "      <td>0.122391</td>\n",
       "    </tr>\n",
       "  </tbody>\n",
       "</table>\n",
       "</div>"
      ],
      "text/plain": [
       "                   mean                                     std            \\\n",
       "metric         Accuracy     Hit@5     MAP@5      MDCG  Accuracy     Hit@5   \n",
       "total_missing                                                               \n",
       "1              0.356083  0.525216  0.303942  0.544766  0.131148  0.128174   \n",
       "2              0.344266  0.513771  0.301694  0.534732  0.135252  0.128325   \n",
       "3              0.327145  0.493465  0.298031  0.519355  0.138631  0.136337   \n",
       "4              0.303932  0.466727  0.292534  0.498830  0.143229  0.144474   \n",
       "5              0.278281  0.431850  0.286343  0.474405  0.147527  0.154774   \n",
       "\n",
       "                                   \n",
       "metric            MAP@5      MDCG  \n",
       "total_missing                      \n",
       "1              0.155788  0.103685  \n",
       "2              0.153770  0.105935  \n",
       "3              0.153436  0.110931  \n",
       "4              0.153784  0.116327  \n",
       "5              0.154991  0.122391  "
      ]
     },
     "execution_count": 5,
     "metadata": {},
     "output_type": "execute_result"
    }
   ],
   "source": [
    "data = pd.read_csv('../nn_results.csv', index_col=0)\n",
    "data['total_missing'] = data['missing'].str.split(',').str.len() + 1\n",
    "#data = data[nn_data['fold'] == 1]\n",
    "data['total_missing'] = np.where(data['missing'] == 'set()', 1, data['total_missing'])\n",
    "\n",
    "model['kNN'] = data\n",
    "\n",
    "knn_pivot = data.groupby(['metric', 'total_missing'])['value'].agg([\"mean\", \"std\"]) \\\n",
    "    .pivot_table(index=['total_missing'], columns='metric', values=['mean', 'std'])\n",
    "\n",
    "knn_pivot"
   ]
  },
  {
   "cell_type": "markdown",
   "metadata": {},
   "source": [
    "### Logistic Regression"
   ]
  },
  {
   "cell_type": "code",
   "execution_count": 6,
   "metadata": {},
   "outputs": [
    {
     "data": {
      "text/html": [
       "<div>\n",
       "<style scoped>\n",
       "    .dataframe tbody tr th:only-of-type {\n",
       "        vertical-align: middle;\n",
       "    }\n",
       "\n",
       "    .dataframe tbody tr th {\n",
       "        vertical-align: top;\n",
       "    }\n",
       "\n",
       "    .dataframe thead tr th {\n",
       "        text-align: left;\n",
       "    }\n",
       "\n",
       "    .dataframe thead tr:last-of-type th {\n",
       "        text-align: right;\n",
       "    }\n",
       "</style>\n",
       "<table border=\"1\" class=\"dataframe\">\n",
       "  <thead>\n",
       "    <tr>\n",
       "      <th></th>\n",
       "      <th>mean</th>\n",
       "      <th>std</th>\n",
       "    </tr>\n",
       "    <tr>\n",
       "      <th>metric</th>\n",
       "      <th>Hit@5</th>\n",
       "      <th>Hit@5</th>\n",
       "    </tr>\n",
       "    <tr>\n",
       "      <th>total_missing</th>\n",
       "      <th></th>\n",
       "      <th></th>\n",
       "    </tr>\n",
       "  </thead>\n",
       "  <tbody>\n",
       "    <tr>\n",
       "      <th>1</th>\n",
       "      <td>0.593544</td>\n",
       "      <td>0.113773</td>\n",
       "    </tr>\n",
       "    <tr>\n",
       "      <th>2</th>\n",
       "      <td>0.577610</td>\n",
       "      <td>0.118020</td>\n",
       "    </tr>\n",
       "    <tr>\n",
       "      <th>3</th>\n",
       "      <td>0.557435</td>\n",
       "      <td>0.122836</td>\n",
       "    </tr>\n",
       "    <tr>\n",
       "      <th>4</th>\n",
       "      <td>0.532765</td>\n",
       "      <td>0.130050</td>\n",
       "    </tr>\n",
       "    <tr>\n",
       "      <th>5</th>\n",
       "      <td>0.502663</td>\n",
       "      <td>0.139153</td>\n",
       "    </tr>\n",
       "  </tbody>\n",
       "</table>\n",
       "</div>"
      ],
      "text/plain": [
       "                   mean       std\n",
       "metric            Hit@5     Hit@5\n",
       "total_missing                    \n",
       "1              0.593544  0.113773\n",
       "2              0.577610  0.118020\n",
       "3              0.557435  0.122836\n",
       "4              0.532765  0.130050\n",
       "5              0.502663  0.139153"
      ]
     },
     "execution_count": 6,
     "metadata": {},
     "output_type": "execute_result"
    }
   ],
   "source": [
    "data = pd.read_csv('../lr_results.csv', index_col=0)\n",
    "data['total_missing'] = data['missing'].str.split(',').str.len() + 1\n",
    "#data = data[nn_data['fold'] == 1]\n",
    "data['total_missing'] = np.where(data['missing'] == 'set()', 1, data['total_missing'])\n",
    "\n",
    "model['Logistic Regression'] = data\n",
    "\n",
    "lr_pivot = data.groupby(['metric', 'total_missing'])['value'].agg([\"mean\", \"std\"]) \\\n",
    "    .pivot_table(index=['total_missing'], columns='metric', values=['mean', 'std'])\n",
    "\n",
    "lr_pivot"
   ]
  },
  {
   "cell_type": "code",
   "execution_count": 7,
   "metadata": {},
   "outputs": [],
   "source": [
    "%matplotlib inline\n",
    "\n",
    "import matplotlib.pyplot as plt\n",
    "import seaborn as sns\n",
    "\n",
    "sns.set()\n",
    "sns.set_style(\"ticks\")\n",
    "\n",
    "df = pd.DataFrame([\n",
    "    #rbm_pivot_1000['mean']['Hit@5'],\n",
    "    rbm_pivot_10000['mean']['Hit@5'],\n",
    "    knn_pivot['mean']['Hit@5'],\n",
    "    lr_pivot['mean']['Hit@5'],\n",
    "    common_pivot['mean']['Hit@5']\n",
    "]).T\n",
    "\n",
    "df.columns = ['RBM-CF', 'kNN', 'LR', 'MF']\n",
    "\n",
    "df.to_csv('output/plugins-recommedation-multiple-positions.csv')"
   ]
  },
  {
   "cell_type": "code",
   "execution_count": 8,
   "metadata": {},
   "outputs": [
    {
     "data": {
      "image/png": "[encoded data removed]",
      "text/plain": [
       "<Figure size 504x162 with 1 Axes>"
      ]
     },
     "metadata": {
      "needs_background": "light"
     },
     "output_type": "display_data"
    }
   ],
   "source": [
    "markers = ['*', '.', 'x', ' ']\n",
    "linestyles = [' ', ' ', ' ', ':']\n",
    "\n",
    "ax = df.plot(figsize=(7, 2.25), color=['r', 'blue', 'fuchsia', 'k'])\n",
    "\n",
    "for marker, line, style in zip(markers, ax.get_lines(), linestyles):\n",
    "    line.set_marker(marker)\n",
    "    line.set_linestyle(style)\n",
    "\n",
    "ax.set_xlabel('# of missing instances')\n",
    "ax.set_ylabel('Hit@5')\n",
    "ax.set_yticklabels(['{:,.2%}'.format(x) for x in ax.get_yticks()])\n",
    "ax.legend(ncol=4)\n",
    "\n",
    "\n",
    "plt.xlim([0.75, 5.25])\n",
    "\n",
    "sns.despine();\n",
    "#ax.get_figure().savefig(\"hit5-multiple.pdf\", bbox_inches='tight')"
   ]
  },
  {
   "cell_type": "code",
   "execution_count": 9,
   "metadata": {},
   "outputs": [
    {
     "name": "stdout",
     "output_type": "stream",
     "text": [
      "\n",
      "\n",
      "\n",
      "\n"
     ]
    },
    {
     "data": {
      "image/png": "[encoded data removed]",
      "text/plain": [
       "<Figure size 576x180 with 1 Axes>"
      ]
     },
     "metadata": {
      "needs_background": "light"
     },
     "output_type": "display_data"
    }
   ],
   "source": [
    "yerr = pd.DataFrame([\n",
    "    rbm_pivot_10000['std']['Hit@5'],\n",
    "    knn_pivot['std']['Hit@5'],\n",
    "    lr_pivot['std']['Hit@5'],\n",
    "    common_pivot['std']['Hit@5']\n",
    "]).T\n",
    "\n",
    "yerr.columns = ['RBM-CF', 'kNN', 'LR', 'MF']\n",
    "\n",
    "# First illustrate basic pyplot interface, using defaults where possible.\n",
    "style=['r*', 'bo', 'yx', ':k']\n",
    "colors = ['r', 'b', 'y', 'black']\n",
    "plt.figure(figsize=(8, 2.5))\n",
    "for data_column, err_column, sty, c in zip(df, yerr, style, colors):\n",
    "    plt.errorbar(y=df[data_column], x=df[data_column].index, yerr=yerr[err_column], fmt=sty)\n",
    "    print()\n",
    "    plt.fill_between(\n",
    "        df[data_column].index,\n",
    "        df[data_column] - yerr[err_column],\n",
    "        df[data_column] + yerr[err_column],\n",
    "        color=c,\n",
    "        alpha=0.2\n",
    "    )\n",
    "\n",
    "plt.gca().set_xlabel('# of missing instances')\n",
    "plt.gca().set_ylabel('Hit@5')\n",
    "plt.gca().set_yticklabels(['{:,.2%}'.format(x) for x in plt.gca().get_yticks()])\n",
    "plt.gca().legend(loc=\"lower right\", bbox_to_anchor=(1., 1.02), ncol=4)\n",
    "\n",
    "plt.xlim([0.5, 5.5])\n",
    "sns.despine();"
   ]
  },
  {
   "cell_type": "code",
   "execution_count": 10,
   "metadata": {},
   "outputs": [],
   "source": [
    "for k, v in model.items():\n",
    "    v['model'] = k"
   ]
  },
  {
   "cell_type": "code",
   "execution_count": 11,
   "metadata": {},
   "outputs": [
    {
     "name": "stderr",
     "output_type": "stream",
     "text": [
      "/home/paulo/git/RBM/venv/lib/python3.6/site-packages/seaborn-0.9.0-py3.6.egg/seaborn/axisgrid.py:715: UserWarning: Using the boxplot function without specifying `order` is likely to produce an incorrect plot.\n",
      "  warnings.warn(warning)\n"
     ]
    },
    {
     "data": {
      "text/plain": [
       "<seaborn.axisgrid.FacetGrid at 0x7f9d96b961d0>"
      ]
     },
     "execution_count": 11,
     "metadata": {},
     "output_type": "execute_result"
    },
    {
     "data": {
      "image/png": "[encoded data removed]",
      "text/plain": [
       "<Figure size 648x216 with 3 Axes>"
      ]
     },
     "metadata": {
      "needs_background": "light"
     },
     "output_type": "display_data"
    }
   ],
   "source": [
    "g = sns.FacetGrid(pd.concat(model), col=\"model\", sharex=False)\n",
    "g.map(sns.boxplot, 'total_missing', 'value')#, 'fold'"
   ]
  },
  {
   "cell_type": "code",
   "execution_count": 12,
   "metadata": {},
   "outputs": [
    {
     "data": {
      "text/plain": [
       "<seaborn.axisgrid.FacetGrid at 0x7f9d969ba908>"
      ]
     },
     "execution_count": 12,
     "metadata": {},
     "output_type": "execute_result"
    },
    {
     "data": {
      "image/png": "[encoded data removed]",
      "text/plain": [
       "<Figure size 648x216 with 3 Axes>"
      ]
     },
     "metadata": {
      "needs_background": "light"
     },
     "output_type": "display_data"
    }
   ],
   "source": [
    "means_model = {k: v.groupby(['fold', 'total_missing']).mean() for k, v in model.items()}\n",
    "\n",
    "for k, v in means_model.items():\n",
    "    v['model'] = k\n",
    "    means_model[k] = v.reset_index('total_missing')\n",
    "\n",
    "means_model['kNN']\n",
    "g = sns.FacetGrid(pd.concat(means_model), col=\"model\", sharex=False)\n",
    "g.map(sns.boxplot, 'total_missing', 'value')#, 'fold'"
   ]
  },
  {
   "cell_type": "code",
   "execution_count": 13,
   "metadata": {},
   "outputs": [
    {
     "data": {
      "text/html": [
       "<div>\n",
       "<style scoped>\n",
       "    .dataframe tbody tr th:only-of-type {\n",
       "        vertical-align: middle;\n",
       "    }\n",
       "\n",
       "    .dataframe tbody tr th {\n",
       "        vertical-align: top;\n",
       "    }\n",
       "\n",
       "    .dataframe thead th {\n",
       "        text-align: right;\n",
       "    }\n",
       "</style>\n",
       "<table border=\"1\" class=\"dataframe\">\n",
       "  <thead>\n",
       "    <tr style=\"text-align: right;\">\n",
       "      <th></th>\n",
       "      <th>values</th>\n",
       "    </tr>\n",
       "    <tr>\n",
       "      <th>index</th>\n",
       "      <th></th>\n",
       "    </tr>\n",
       "  </thead>\n",
       "  <tbody>\n",
       "    <tr>\n",
       "      <th>3</th>\n",
       "      <td>9.0</td>\n",
       "    </tr>\n",
       "    <tr>\n",
       "      <th>4</th>\n",
       "      <td>28.0</td>\n",
       "    </tr>\n",
       "    <tr>\n",
       "      <th>5</th>\n",
       "      <td>75.0</td>\n",
       "    </tr>\n",
       "    <tr>\n",
       "      <th>6</th>\n",
       "      <td>186.0</td>\n",
       "    </tr>\n",
       "    <tr>\n",
       "      <th>7</th>\n",
       "      <td>441.0</td>\n",
       "    </tr>\n",
       "    <tr>\n",
       "      <th>8</th>\n",
       "      <td>1016.0</td>\n",
       "    </tr>\n",
       "    <tr>\n",
       "      <th>9</th>\n",
       "      <td>2295.0</td>\n",
       "    </tr>\n",
       "    <tr>\n",
       "      <th>10</th>\n",
       "      <td>5110.0</td>\n",
       "    </tr>\n",
       "  </tbody>\n",
       "</table>\n",
       "</div>"
      ],
      "text/plain": [
       "       values\n",
       "index        \n",
       "3         9.0\n",
       "4        28.0\n",
       "5        75.0\n",
       "6       186.0\n",
       "7       441.0\n",
       "8      1016.0\n",
       "9      2295.0\n",
       "10     5110.0"
      ]
     },
     "execution_count": 13,
     "metadata": {},
     "output_type": "execute_result"
    },
    {
     "data": {
      "image/png": "[encoded data removed]",
      "text/plain": [
       "<Figure size 432x288 with 1 Axes>"
      ]
     },
     "metadata": {
      "needs_background": "light"
     },
     "output_type": "display_data"
    }
   ],
   "source": [
    "%matplotlib inline\n",
    "import pandas as pd\n",
    "\n",
    "\n",
    "import math\n",
    "\n",
    "def nCr(n,r):\n",
    "    f = math.factorial\n",
    "    return f(n) / f(r) / f(n-r)\n",
    "\n",
    "def sum_combinations(j):\n",
    "    return sum([i*nCr(j,i) for i in range(1, j)])\n",
    "\n",
    "values = [(i, sum_combinations(i)) for i in range(3, 11)]\n",
    "\n",
    "x = pd.DataFrame(values, columns=['index', 'values'])\n",
    "x.index = x['index']\n",
    "del x['index']\n",
    "axis = x.plot(title=\"Total of models required (axis x) to train \\nall possible missing plugins by a classifier approach\")\n",
    "axis.set_xlabel(\"# plugins in a patch\")\n",
    "axis.set_ylabel(\"# models required to train\")\n",
    "\n",
    "x"
   ]
  }
 ],
 "metadata": {
  "kernelspec": {
   "display_name": "Python 3",
   "language": "python",
   "name": "python3"
  },
  "language_info": {
   "codemirror_mode": {
    "name": "ipython",
    "version": 3
   },
   "file_extension": ".py",
   "mimetype": "text/x-python",
   "name": "python",
   "nbconvert_exporter": "python",
   "pygments_lexer": "ipython3",
   "version": "3.6.8"
  }
 },
 "nbformat": 4,
 "nbformat_minor": 4
}
