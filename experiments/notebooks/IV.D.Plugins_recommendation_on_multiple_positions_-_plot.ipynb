{
 "cells": [
  {
   "cell_type": "markdown",
   "metadata": {},
   "source": [
    "# Generate graph"
   ]
  },
  {
   "cell_type": "code",
   "execution_count": 1,
   "metadata": {},
   "outputs": [
    {
     "data": {
      "text/html": [
       "<div>\n",
       "<style scoped>\n",
       "    .dataframe tbody tr th:only-of-type {\n",
       "        vertical-align: middle;\n",
       "    }\n",
       "\n",
       "    .dataframe tbody tr th {\n",
       "        vertical-align: top;\n",
       "    }\n",
       "\n",
       "    .dataframe thead th {\n",
       "        text-align: right;\n",
       "    }\n",
       "</style>\n",
       "<table border=\"1\" class=\"dataframe\">\n",
       "  <thead>\n",
       "    <tr style=\"text-align: right;\">\n",
       "      <th></th>\n",
       "      <th>RBM-CF</th>\n",
       "      <th>kNN</th>\n",
       "      <th>LR</th>\n",
       "      <th>MF</th>\n",
       "    </tr>\n",
       "    <tr>\n",
       "      <th>total_missing</th>\n",
       "      <th></th>\n",
       "      <th></th>\n",
       "      <th></th>\n",
       "      <th></th>\n",
       "    </tr>\n",
       "  </thead>\n",
       "  <tbody>\n",
       "    <tr>\n",
       "      <th>1</th>\n",
       "      <td>0.504236</td>\n",
       "      <td>0.525216</td>\n",
       "      <td>0.593544</td>\n",
       "      <td>0.45534</td>\n",
       "    </tr>\n",
       "    <tr>\n",
       "      <th>2</th>\n",
       "      <td>0.490090</td>\n",
       "      <td>0.513771</td>\n",
       "      <td>0.577610</td>\n",
       "      <td>0.45534</td>\n",
       "    </tr>\n",
       "    <tr>\n",
       "      <th>3</th>\n",
       "      <td>0.468710</td>\n",
       "      <td>0.493465</td>\n",
       "      <td>0.557435</td>\n",
       "      <td>0.45534</td>\n",
       "    </tr>\n",
       "    <tr>\n",
       "      <th>4</th>\n",
       "      <td>0.435230</td>\n",
       "      <td>0.466727</td>\n",
       "      <td>0.532765</td>\n",
       "      <td>0.45534</td>\n",
       "    </tr>\n",
       "    <tr>\n",
       "      <th>5</th>\n",
       "      <td>0.391108</td>\n",
       "      <td>0.431850</td>\n",
       "      <td>0.502663</td>\n",
       "      <td>0.45534</td>\n",
       "    </tr>\n",
       "  </tbody>\n",
       "</table>\n",
       "</div>"
      ],
      "text/plain": [
       "                 RBM-CF       kNN        LR       MF\n",
       "total_missing                                       \n",
       "1              0.504236  0.525216  0.593544  0.45534\n",
       "2              0.490090  0.513771  0.577610  0.45534\n",
       "3              0.468710  0.493465  0.557435  0.45534\n",
       "4              0.435230  0.466727  0.532765  0.45534\n",
       "5              0.391108  0.431850  0.502663  0.45534"
      ]
     },
     "execution_count": 1,
     "metadata": {},
     "output_type": "execute_result"
    }
   ],
   "source": [
    "%matplotlib inline\n",
    "\n",
    "import matplotlib\n",
    "import matplotlib.pyplot as plt\n",
    "\n",
    "import numpy as np\n",
    "import pandas as pd\n",
    "\n",
    "from rcparams import update_style\n",
    "\n",
    "df = pd.read_csv('output/plugins-recommedation-multiple-positions.csv', index_col='total_missing')\n",
    "df"
   ]
  },
  {
   "cell_type": "code",
   "execution_count": 2,
   "metadata": {},
   "outputs": [
    {
     "data": {
      "image/png": "[encoded data removed]",
      "text/plain": [
       "<Figure size 374.4x280.8 with 1 Axes>"
      ]
     },
     "metadata": {},
     "output_type": "display_data"
    }
   ],
   "source": [
    "markers = ['s', 'o', '^', ' ']\n",
    "linestyles = [' ', ' ', ' ', ':']\n",
    "\n",
    "update_style()\n",
    "\n",
    "# color=['#2ca02c', '#1f77b4', '#d62728', 'black']\n",
    "ax = df.plot(figsize=(8*.65, 6*.65), color=['#888888', '#444444', '#000000', 'black'])\n",
    "\n",
    "for marker, line, style in zip(markers, ax.get_lines(), linestyles):\n",
    "    line.set_marker(marker)\n",
    "    line.set_linestyle(style)\n",
    "\n",
    "#ax.set_xlabel('Número de instâncias ausentes')\n",
    "ax.set_xlabel('# of missing plugins in the patch')\n",
    "ax.set_ylabel('Hit@5')\n",
    "ax.set_yticklabels(['{:3.1f}'.format(x*100) for x in ax.get_yticks()])\n",
    "\n",
    "from matplotlib.font_manager import FontProperties\n",
    "font_small = FontProperties()\n",
    "font_small.set_size('small')\n",
    "ax.legend(ncol=1, bbox_to_anchor=(0, 0), loc=\"lower left\", prop=font_small) \n",
    "\n",
    "plt.xlim([0.75, 5.25])\n",
    "plt.ylim([0.355, .615])\n",
    "\n",
    "\n",
    "ax.get_figure().savefig(\"output/hit5-multiple.pdf\", bbox_inches='tight')"
   ]
  }
 ],
 "metadata": {
  "kernelspec": {
   "display_name": "Python 3",
   "language": "python",
   "name": "python3"
  },
  "language_info": {
   "codemirror_mode": {
    "name": "ipython",
    "version": 3
   },
   "file_extension": ".py",
   "mimetype": "text/x-python",
   "name": "python",
   "nbconvert_exporter": "python",
   "pygments_lexer": "ipython3",
   "version": "3.6.8"
  }
 },
 "nbformat": 4,
 "nbformat_minor": 4
}
