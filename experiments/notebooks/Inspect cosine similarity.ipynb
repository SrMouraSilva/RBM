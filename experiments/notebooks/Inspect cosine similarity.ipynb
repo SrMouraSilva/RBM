{
 "cells": [
  {
   "cell_type": "code",
   "execution_count": 1,
   "metadata": {},
   "outputs": [],
   "source": [
    "import numpy as np\n",
    "from sklearn.metrics.pairwise import cosine_similarity\n",
    "from sklearn.neighbors import DistanceMetric\n",
    "from sklearn.neighbors import KNeighborsClassifier"
   ]
  },
  {
   "cell_type": "code",
   "execution_count": 2,
   "metadata": {},
   "outputs": [
    {
     "data": {
      "text/plain": [
       "array([[0.17146308],\n",
       "       [0.01801949],\n",
       "       [0.04742066]])"
      ]
     },
     "execution_count": 2,
     "metadata": {},
     "output_type": "execute_result"
    }
   ],
   "source": [
    "def cosine_distance(X, Y):\n",
    "    if len(np.asarray(X).shape) < 2:\n",
    "        X = [X]\n",
    "    if len(np.asarray(Y).shape) < 2:\n",
    "        Y = [Y]\n",
    "\n",
    "    return 1 - cosine_similarity(X, Y)\n",
    "\n",
    "a = np.array([\n",
    "    [1, 2, 100],\n",
    "    [1, 2, 3],\n",
    "    [1, 2, 2]\n",
    "])\n",
    "\n",
    "b = np.array([[1,1,2]])\n",
    "\n",
    "cosine_distance(a, b)"
   ]
  },
  {
   "cell_type": "code",
   "execution_count": 3,
   "metadata": {},
   "outputs": [
    {
     "data": {
      "text/plain": [
       "array([[1.00000000e+00],\n",
       "       [1.00000000e+00],\n",
       "       [5.00000000e-01],\n",
       "       [2.22044605e-16]])"
      ]
     },
     "execution_count": 3,
     "metadata": {},
     "output_type": "execute_result"
    }
   ],
   "source": [
    "a = np.array([\n",
    "    [0, 1, 0, 1, 0, 0],\n",
    "    [0, 0, 1, 0, 1, 0],\n",
    "    [1, 0, 0, 1, 0, 0],\n",
    "    [1, 0, 0, 0, 0, 1],\n",
    "])\n",
    "\n",
    "b = np.array([[1, 0, 0, 0, 0, 1]])\n",
    "\n",
    "cosine_distance(a, b)"
   ]
  },
  {
   "cell_type": "code",
   "execution_count": 4,
   "metadata": {},
   "outputs": [
    {
     "data": {
      "text/plain": [
       "array([[0.66666667],\n",
       "       [0.33333333]])"
      ]
     },
     "execution_count": 4,
     "metadata": {},
     "output_type": "execute_result"
    }
   ],
   "source": [
    "dist = DistanceMetric.get_metric('hamming')\n",
    "dist.pairwise([[1,2,3],[1,2,2]], [[1,1,2]])"
   ]
  },
  {
   "cell_type": "code",
   "execution_count": 5,
   "metadata": {},
   "outputs": [
    {
     "data": {
      "text/plain": [
       "array([[1., 0.],\n",
       "       [1., 0.]])"
      ]
     },
     "execution_count": 5,
     "metadata": {},
     "output_type": "execute_result"
    }
   ],
   "source": [
    "model = KNeighborsClassifier(algorithm='brute', metric=cosine_distance, n_neighbors=1)\n",
    "#model = KNeighborsClassifier(algorithm='brute', metric='hamming', n_neighbors=1)\n",
    "model.fit(X=a, y=[1, 2, 2, 1])\n",
    "\n",
    "model.predict_proba(np.array([[0,1,0,0,0,0], [0,1,0,0,0,1]]))"
   ]
  },
  {
   "cell_type": "markdown",
   "metadata": {},
   "source": [
    "# IDF TFDF"
   ]
  },
  {
   "cell_type": "code",
   "execution_count": 6,
   "metadata": {},
   "outputs": [
    {
     "name": "stdout",
     "output_type": "stream",
     "text": [
      "\n",
      "WARNING: The TensorFlow contrib module will not be included in TensorFlow 2.0.\n",
      "For more information, please see:\n",
      "  * https://github.com/tensorflow/community/blob/master/rfcs/20180907-contrib-sunset.md\n",
      "  * https://github.com/tensorflow/addons\n",
      "If you depend on functionality not listed there, please file an issue.\n",
      "\n"
     ]
    },
    {
     "data": {
      "text/plain": [
       "array([0.0007404 , 0.00212864, 0.00157335, 0.0014808 , 0.00240629,\n",
       "       0.00314669, 0.00277649, 0.01240167, 0.00277649, 0.        ,\n",
       "       0.0005553 , 0.0011106 , 0.00101805, 0.00046275, 0.00046275,\n",
       "       0.00046275, 0.00305414, 0.00370199, 0.00610828, 0.00194354,\n",
       "       0.00046275, 0.00259139, 0.00101805, 0.01212402, 0.01230912,\n",
       "       0.00509024, 0.00388709, 0.05923184, 0.01221657, 0.00296159,\n",
       "       0.06580287, 0.01295696, 0.00342434, 0.00786673, 0.00222119,\n",
       "       0.0011106 , 0.00333179, 0.00314669, 0.00629338, 0.00555298,\n",
       "       0.0012957 , 0.01147617, 0.00740398, 0.00842203, 0.01628876,\n",
       "       0.00897733, 0.00509024, 0.00120315, 0.00240629, 0.00407219,\n",
       "       0.0003702 , 0.0014808 , 0.00425729, 0.02295234, 0.0180472 ,\n",
       "       0.00731143, 0.0200833 , 0.00277649, 0.0014808 , 0.00379454,\n",
       "       0.02174919, 0.01055067, 0.00758908, 0.01388246, 0.01684405,\n",
       "       0.00971772, 0.02609903, 0.00684868, 0.00481259, 0.00203609,\n",
       "       0.0012957 , 0.02822767, 0.01258676, 0.01564091, 0.00962517,\n",
       "       0.00444239, 0.00305414, 0.00277649, 0.00370199, 0.00323924,\n",
       "       0.00620083, 0.00203609, 0.00212864, 0.00444239, 0.00222119,\n",
       "       0.00814438, 0.00629338, 0.0012957 , 0.00259139, 0.00101805,\n",
       "       0.00083295, 0.00064785, 0.0180472 , 0.00721888, 0.00416474,\n",
       "       0.00703378, 0.00740398, 0.00360944, 0.00944007, 0.00768163,\n",
       "       0.00786673, 0.00490514, 0.00351689, 0.00397964, 0.00518279,\n",
       "       0.01416011, 0.00397964, 0.19722351, 0.00194354, 0.00277649,\n",
       "       0.00379454, 0.00333179, 0.00407219, 0.00314669, 0.00194354,\n",
       "       0.00768163, 0.00222119], dtype=float32)"
      ]
     },
     "execution_count": 6,
     "metadata": {},
     "output_type": "execute_result"
    }
   ],
   "source": [
    "import pandas as pd\n",
    "\n",
    "from experiments.data.load_data_util import load_data\n",
    "from experiments.model_evaluate.split_method import split_with_bag_of_words_function\n",
    "from experiments.model_evaluate.split_method import split_x_y\n",
    "from rbm.util.embedding import one_hot_encoding\n",
    "\n",
    "def split_x_y_with_bag_of_words(data, y_column, n_labels=117):\n",
    "    X, y = split_x_y(data, y_column)\n",
    "    X = one_hot_encoding(X, n_labels, reshape=False)\n",
    "\n",
    "    bag_of_words = X.sum(axis=1)\n",
    "    bag_of_words = bag_of_words# / bag_of_words.sum(axis=1).reshape((-1, 1))\n",
    "\n",
    "    return bag_of_words, y\n",
    "\n",
    "data = load_data('../data')\n",
    "X, y = split_x_y_with_bag_of_words(data, 0, n_labels=117)\n",
    "\n",
    "TF = lambda X: X.sum(axis=0) / X.sum()\n",
    "TF(X)"
   ]
  },
  {
   "cell_type": "code",
   "execution_count": 7,
   "metadata": {},
   "outputs": [
    {
     "name": "stderr",
     "output_type": "stream",
     "text": [
      "/home/paulo/git/RBM/venv/lib/python3.6/site-packages/ipykernel-5.1.0-py3.6.egg/ipykernel_launcher.py:7: RuntimeWarning: divide by zero encountered in true_divide\n",
      "  import sys\n"
     ]
    },
    {
     "data": {
      "text/plain": [
       "array([5.59888481, 4.54283214, 4.84511301, 4.90573763, 4.42022982,\n",
       "       4.15196583, 4.38248949, 2.88253581, 4.31103053,        inf,\n",
       "       5.88656689, 5.19341971, 5.28043108, 6.06888844, 6.06888844,\n",
       "       6.06888844, 4.1818188 , 3.9894469 , 3.48867161, 4.63380392,\n",
       "       6.06888844, 4.34612185, 5.28043108, 2.80312903, 2.78797723,\n",
       "       3.67099317, 3.94065674, 1.21685818, 2.79552443, 4.21259045,\n",
       "       1.1358544 , 2.75834543, 4.06740844, 3.2356751 , 4.50027253,\n",
       "       5.19341971, 4.15196583, 4.15196583, 3.47363374, 3.58398179,\n",
       "       5.03926903, 2.85804479, 3.29629972, 3.16746685, 2.51927106,\n",
       "       3.10361538, 3.67099317, 5.113377  , 4.42022982, 3.94065674,\n",
       "       6.292032  , 4.90573763, 3.91712624, 2.2018628 , 2.50784236,\n",
       "       3.45881865, 2.298429  , 4.27712897, 4.90573763, 3.96475429,\n",
       "       2.21874084, 2.94212791, 3.27160711, 2.66769106, 2.47431967,\n",
       "       3.03393546, 2.03641929, 3.37426126, 3.72708264, 4.68259408,\n",
       "       5.03926903, 1.95801458, 2.76567147, 2.54842764, 3.04359737,\n",
       "       3.80712535, 4.1818188 , 4.27712897, 3.9894469 , 4.1229783 ,\n",
       "       3.47363374, 4.5872839 , 4.54283214, 3.80712535, 4.50027253,\n",
       "       3.21241824, 3.45881865, 5.03926903, 4.34612185, 5.28043108,\n",
       "       5.48110178, 5.73241621, 2.4053268 , 3.32161753, 3.87166387,\n",
       "       3.34759302, 3.29629972, 4.01476471, 3.05335354, 3.25948575,\n",
       "       3.2356751 , 3.70803444, 4.0407402 , 3.91712624, 3.65297467,\n",
       "       2.64788844, 3.96475429, 0.71324601, 4.63380392, 4.27712897,\n",
       "       3.96475429, 4.09480742, 3.89413672, 4.15196583, 4.63380392,\n",
       "       3.25948575, 4.50027253])"
      ]
     },
     "execution_count": 7,
     "metadata": {},
     "output_type": "execute_result"
    }
   ],
   "source": [
    "import math\n",
    "\n",
    "def IDF(X):\n",
    "    total_of_documents = X.shape[0]\n",
    "    number_of_documents_with_term = (X > 0).sum(axis=0)\n",
    "\n",
    "    return np.log(total_of_documents / number_of_documents_with_term)\n",
    "IDF(X)"
   ]
  },
  {
   "cell_type": "code",
   "execution_count": 8,
   "metadata": {},
   "outputs": [
    {
     "name": "stderr",
     "output_type": "stream",
     "text": [
      "/home/paulo/git/RBM/venv/lib/python3.6/site-packages/ipykernel-5.1.0-py3.6.egg/ipykernel_launcher.py:7: RuntimeWarning: divide by zero encountered in true_divide\n",
      "  import sys\n",
      "/home/paulo/git/RBM/venv/lib/python3.6/site-packages/ipykernel-5.1.0-py3.6.egg/ipykernel_launcher.py:1: RuntimeWarning: invalid value encountered in multiply\n",
      "  \"\"\"Entry point for launching an IPython kernel.\n"
     ]
    },
    {
     "data": {
      "text/plain": [
       "array([0.0041454 , 0.00967007, 0.00762304, 0.0072644 , 0.01063637,\n",
       "       0.01306495, 0.01216795, 0.03574825, 0.01196954,        nan,\n",
       "       0.0032688 , 0.0057678 , 0.00537573, 0.00280837, 0.00280837,\n",
       "       0.00280837, 0.01277187, 0.01476889, 0.02130979, 0.009006  ,\n",
       "       0.00280837, 0.01126251, 0.00537573, 0.03398518, 0.03431754,\n",
       "       0.01868622, 0.01531768, 0.07207674, 0.03415171, 0.01247597,\n",
       "       0.07474248, 0.03573978, 0.01392819, 0.02545418, 0.00999598,\n",
       "       0.0057678 , 0.01383348, 0.01306495, 0.02186091, 0.0199018 ,\n",
       "       0.00652936, 0.0327994 , 0.02440574, 0.02667649, 0.04103579,\n",
       "       0.02786217, 0.01868622, 0.00615214, 0.01063637, 0.0160471 ,\n",
       "       0.0023293 , 0.0072644 , 0.01667634, 0.0505379 , 0.04525953,\n",
       "       0.02528891, 0.04616003, 0.01187542, 0.0072644 , 0.01504442,\n",
       "       0.04825582, 0.03104142, 0.02482848, 0.03703412, 0.04167757,\n",
       "       0.02948295, 0.05314856, 0.02310924, 0.01793691, 0.0095342 ,\n",
       "       0.00652936, 0.05527019, 0.03481086, 0.03985972, 0.02929515,\n",
       "       0.01691273, 0.01277187, 0.01187542, 0.01476889, 0.01335532,\n",
       "       0.02153942, 0.00934014, 0.00967007, 0.01691273, 0.00999598,\n",
       "       0.02616315, 0.02176767, 0.00652936, 0.01126251, 0.00537573,\n",
       "       0.00456547, 0.00371374, 0.04340942, 0.02397836, 0.01612447,\n",
       "       0.02354624, 0.02440574, 0.01449105, 0.02882388, 0.02503816,\n",
       "       0.02545418, 0.01818841, 0.01421084, 0.01558875, 0.01893259,\n",
       "       0.03749439, 0.01577829, 0.14066888, 0.009006  , 0.01187542,\n",
       "       0.01504442, 0.01364304, 0.01585766, 0.01306495, 0.009006  ,\n",
       "       0.02503816, 0.00999598])"
      ]
     },
     "execution_count": 8,
     "metadata": {},
     "output_type": "execute_result"
    }
   ],
   "source": [
    "TF(X) * IDF(X)"
   ]
  }
 ],
 "metadata": {
  "kernelspec": {
   "display_name": "Python 3",
   "language": "python",
   "name": "python3"
  },
  "language_info": {
   "codemirror_mode": {
    "name": "ipython",
    "version": 3
   },
   "file_extension": ".py",
   "mimetype": "text/x-python",
   "name": "python",
   "nbconvert_exporter": "python",
   "pygments_lexer": "ipython3",
   "version": "3.6.7"
  }
 },
 "nbformat": 4,
 "nbformat_minor": 2
}
