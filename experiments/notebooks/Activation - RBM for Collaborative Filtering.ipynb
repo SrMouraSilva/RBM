{
 "cells": [
  {
   "cell_type": "markdown",
   "metadata": {},
   "source": [
    "# RBM for Collaborative Filtering\n",
    "\n",
    "## Activation of visible layer\n"
   ]
  },
  {
   "cell_type": "code",
   "execution_count": 1,
   "metadata": {},
   "outputs": [],
   "source": [
    "import tensorflow as tf\n",
    "import numpy as np\n",
    "\n",
    "from rbm.util.util import softmax, Σ\n",
    "\n",
    "tf.set_random_seed(42)\n",
    "session = tf.InteractiveSession()"
   ]
  },
  {
   "cell_type": "markdown",
   "metadata": {},
   "source": [
    "### Parameters"
   ]
  },
  {
   "cell_type": "code",
   "execution_count": 127,
   "metadata": {},
   "outputs": [],
   "source": [
    "movies = 1\n",
    "ratings = 10\n",
    "users = 2\n",
    "\n",
    "visible_size = movies*ratings\n",
    "hidden_size = 5\n",
    "visible_shape = [users, visible_size]"
   ]
  },
  {
   "cell_type": "code",
   "execution_count": 128,
   "metadata": {},
   "outputs": [
    {
     "data": {
      "text/plain": [
       "array([[1., 1.],\n",
       "       [1., 0.],\n",
       "       [0., 0.],\n",
       "       [0., 0.],\n",
       "       [0., 1.],\n",
       "       [0., 1.],\n",
       "       [1., 1.],\n",
       "       [0., 0.],\n",
       "       [1., 0.],\n",
       "       [0., 0.]], dtype=float32)"
      ]
     },
     "execution_count": 128,
     "metadata": {},
     "output_type": "execute_result"
    }
   ],
   "source": [
    "users_ratings = np.array((\n",
    "    (1), # User 1\n",
    "    (6)  # User 2\n",
    "))\n",
    "\n",
    "def assign_rating(value):\n",
    "    response = [0]*ratings\n",
    "    response[value] = 1.\n",
    "    return response\n",
    "\n",
    "# Hidden and visible values\n",
    "data = tf.constant(\n",
    "    np.array(list(map(assign_rating, users_ratings.reshape([-1])))).reshape(visible_shape),\n",
    "    dtype=tf.float32\n",
    ").T\n",
    "\n",
    "#print('User ratings')\n",
    "#tf.reshape(data.T, [-1, movies, ratings]).eval()\n",
    "\n",
    "data = data.eval()\n",
    "data[0][1] = 1\n",
    "data[0][0] = 1\n",
    "data[5][1] = 1\n",
    "data[4][1] = 1\n",
    "data[8][0] = 1\n",
    "data[6][0] = 1\n",
    "data"
   ]
  },
  {
   "cell_type": "code",
   "execution_count": 129,
   "metadata": {},
   "outputs": [],
   "source": [
    "# Params values\n",
    "W = 1 * tf.random_normal([hidden_size, visible_size], dtype=tf.float32)\n",
    "b_v = 0.01 * tf.random_normal([visible_size, 1], dtype=tf.float32)\n",
    "b_h = 0.01 * tf.random_normal([hidden_size, 1], dtype=tf.float32)"
   ]
  },
  {
   "cell_type": "code",
   "execution_count": 133,
   "metadata": {},
   "outputs": [
    {
     "name": "stdout",
     "output_type": "stream",
     "text": [
      "Example of h sampled: 3x2 because are 3 hidden units and the minibatch size is 2\n"
     ]
    },
    {
     "data": {
      "text/plain": [
       "array([[1., 1.],\n",
       "       [0., 0.],\n",
       "       [1., 1.],\n",
       "       [1., 1.],\n",
       "       [1., 0.]], dtype=float32)"
      ]
     },
     "execution_count": 133,
     "metadata": {},
     "output_type": "execute_result"
    }
   ],
   "source": [
    "from tensorflow.contrib.distributions import Bernoulli\n",
    "\n",
    "σ = tf.sigmoid\n",
    "\n",
    "probabilities = σ(W @ data + b_h)\n",
    "h = tf.cast(Bernoulli(probs=probabilities).sample(), tf.float32)\n",
    "\n",
    "print('Example of h sampled: 3x2 because are 3 hidden units and the minibatch size is 2')\n",
    "h.eval()"
   ]
  },
  {
   "cell_type": "markdown",
   "metadata": {},
   "source": [
    "### Probability\n",
    "https://github.com/thepapercoder/RBM/blob/master/rbm.py#L147-L153"
   ]
  },
  {
   "cell_type": "code",
   "execution_count": 6,
   "metadata": {},
   "outputs": [],
   "source": [
    "x_sigmoid = h.T @ W + b_v.T\n",
    "\n",
    "# Remove all the movie have not been rating\n",
    "# In really, remove all the movie-rating probabilities\n",
    "mask = tf.sign(data)\n",
    "x_maked = x_sigmoid * mask.T\n",
    "\n",
    "# Reshape for apply softmax correctly\n",
    "x = tf.reshape(x_maked, [users, -1, ratings])\n",
    "\n",
    "# Calc probability\n",
    "probabilies = softmax(x)\n",
    "\n",
    "probabilies = tf.reshape(probabilies, [users, -1])"
   ]
  },
  {
   "cell_type": "markdown",
   "metadata": {},
   "source": [
    "### Sample"
   ]
  },
  {
   "cell_type": "code",
   "execution_count": 7,
   "metadata": {
    "scrolled": true
   },
   "outputs": [
    {
     "name": "stdout",
     "output_type": "stream",
     "text": [
      "The generate samples does not respect the restriction\n"
     ]
    },
    {
     "data": {
      "text/plain": [
       "array([[[0., 1., 1.],\n",
       "        [0., 1., 0.],\n",
       "        [0., 1., 0.],\n",
       "        [1., 0., 0.]],\n",
       "\n",
       "       [[0., 1., 0.],\n",
       "        [1., 0., 1.],\n",
       "        [0., 0., 0.],\n",
       "        [0., 0., 0.]]], dtype=float32)"
      ]
     },
     "execution_count": 7,
     "metadata": {},
     "output_type": "execute_result"
    }
   ],
   "source": [
    "samples = tf.nn.relu(tf.sign(probabilies - tf.random_uniform(tf.shape(probabilies))))\n",
    "\n",
    "print('The generate samples does not respect the restriction')\n",
    "tf.reshape(samples, [users, -1, ratings]).eval()"
   ]
  },
  {
   "cell_type": "markdown",
   "metadata": {},
   "source": [
    "## A simple test with argmax"
   ]
  },
  {
   "cell_type": "code",
   "execution_count": 8,
   "metadata": {},
   "outputs": [
    {
     "name": "stdout",
     "output_type": "stream",
     "text": [
      "[[[ 2.6223373   1.0029061  -0.6231793 ]\n",
      "  [ 1.2314824   0.87618446  4.7124147 ]\n",
      "  [ 0.41593808 -0.62558526  0.9319977 ]\n",
      "  [ 0.27236003 -0.46953848  0.96402305]]\n",
      "\n",
      " [[ 2.3110352   0.7221107  -0.702591  ]\n",
      "  [ 2.8766577   0.34879747  4.1321445 ]\n",
      "  [ 0.2486911  -0.09267695  0.8595692 ]\n",
      "  [ 0.7815393  -0.18940184 -0.85840446]]]\n"
     ]
    },
    {
     "data": {
      "text/plain": [
       "array([[0, 2, 2, 2],\n",
       "       [0, 2, 2, 0]])"
      ]
     },
     "execution_count": 8,
     "metadata": {},
     "output_type": "execute_result"
    }
   ],
   "source": [
    "probabilies_calculated = probabilies.eval()\n",
    "\n",
    "c = x_sigmoid.eval()\n",
    "\n",
    "print(tf.reshape(c, [users, -1, ratings]).eval())\n",
    "tf.argmax(tf.reshape(c, [users, -1, ratings]), axis=2).eval()"
   ]
  },
  {
   "cell_type": "markdown",
   "metadata": {},
   "source": [
    "## Probability"
   ]
  },
  {
   "cell_type": "code",
   "execution_count": 134,
   "metadata": {},
   "outputs": [
    {
     "name": "stdout",
     "output_type": "stream",
     "text": [
      "Expectation parameter\n",
      "[[-0.5922705   0.40584487 -0.63715506  0.05796758  0.11270514 -0.6032788\n",
      "   1.4189985  -0.08548038 -0.41111588  1.7974641 ]\n",
      " [ 0.39257938 -1.0894061  -1.3418009   1.355403    0.5096347   0.89495105\n",
      "  -0.24924284  0.08597186 -0.44713634 -0.5337291 ]]\n",
      "\n",
      "Parameter reshape to apply probability\n",
      "[[[-0.5922705   0.40584487 -0.63715506  0.05796758  0.11270514\n",
      "   -0.6032788   1.4189985  -0.08548038 -0.41111588  1.7974641 ]]\n",
      "\n",
      " [[ 0.39257938 -1.0894061  -1.3418009   1.355403    0.5096347\n",
      "    0.89495105 -0.24924284  0.08597186 -0.44713634 -0.5337291 ]]]\n",
      "\n",
      "Softmax probability\n"
     ]
    },
    {
     "data": {
      "text/plain": [
       "array([[[0.03242535, 0.08797529, 0.03100214, 0.06212687, 0.06562234,\n",
       "         0.03207036, 0.24230799, 0.05382461, 0.03886504, 0.35378   ]],\n",
       "\n",
       "       [[0.11248957, 0.02555608, 0.01985548, 0.29461932, 0.1264587 ,\n",
       "         0.18590432, 0.05920692, 0.08278551, 0.04857673, 0.04454732]]],\n",
       "      dtype=float32)"
      ]
     },
     "execution_count": 134,
     "metadata": {},
     "output_type": "execute_result"
    }
   ],
   "source": [
    "print('Expectation parameter')\n",
    "x_sigmoid = h.T @ W + b_v.T\n",
    "x_sigmoid = x_sigmoid.eval()\n",
    "print(x_sigmoid)\n",
    "print()\n",
    "\n",
    "# Reshape for apply softmax correctly\n",
    "print('Parameter reshape to apply probability')\n",
    "total_of_users = -1\n",
    "x = tf.reshape(x_sigmoid, [total_of_users, movies, ratings])\n",
    "print(x.eval())\n",
    "print()\n",
    "\n",
    "print('Softmax probability')\n",
    "# Calc probability\n",
    "probability = softmax(x)\n",
    "probability.eval()\n",
    "#probabilies = tf.reshape(probabilies, [users, -1])"
   ]
  },
  {
   "cell_type": "code",
   "execution_count": 136,
   "metadata": {},
   "outputs": [
    {
     "data": {
      "text/plain": [
       "array([[[0., 0., 0., 0., 0., 0., 0., 0., 0., 0.]],\n",
       "\n",
       "       [[1., 0., 0., 0., 0., 0., 0., 0., 0., 0.]]], dtype=float32)"
      ]
     },
     "execution_count": 136,
     "metadata": {},
     "output_type": "execute_result"
    }
   ],
   "source": [
    "#h = tf.cast(x, tf.float32)\n",
    "sample = Bernoulli(probs=probability).sample().eval()\n",
    "sample = tf.cast(sample, tf.float32)\n",
    "\n",
    "sample.eval()\n",
    "#Bernoulli(probs=[0., 0.5, 0.]).sample().eval()\n",
    "#bernoulli_sample(p=probabilities)"
   ]
  },
  {
   "cell_type": "code",
   "execution_count": 106,
   "metadata": {},
   "outputs": [
    {
     "data": {
      "text/plain": [
       "array([[1., 1.],\n",
       "       [0., 0.],\n",
       "       [0., 0.],\n",
       "       [0., 0.],\n",
       "       [1., 0.],\n",
       "       [1., 0.],\n",
       "       [0., 1.],\n",
       "       [0., 0.],\n",
       "       [0., 0.],\n",
       "       [1., 1.],\n",
       "       [0., 0.],\n",
       "       [0., 0.]], dtype=float32)"
      ]
     },
     "execution_count": 106,
     "metadata": {},
     "output_type": "execute_result"
    }
   ],
   "source": [
    "shape = [-1, visible_size]\n",
    "tf.reshape(sample, shape).T.eval()"
   ]
  },
  {
   "cell_type": "markdown",
   "metadata": {},
   "source": [
    "## Expectation"
   ]
  },
  {
   "cell_type": "code",
   "execution_count": 10,
   "metadata": {},
   "outputs": [
    {
     "name": "stdout",
     "output_type": "stream",
     "text": [
      "[[2.1000001 2.7       2.7       2.7      ]\n",
      " [1.4000001 2.7       1.4000001 2.7      ]]\n"
     ]
    },
    {
     "data": {
      "text/plain": [
       "array([[2, 3, 3, 3],\n",
       "       [1, 3, 1, 3]], dtype=int32)"
      ]
     },
     "execution_count": 10,
     "metadata": {},
     "output_type": "execute_result"
    }
   ],
   "source": [
    "x = tf.constant([[\n",
    "    [.2, .5, .3],\n",
    "    [.1, .1, .8],\n",
    "    [.1, .1, .8],\n",
    "    [.1, .1, .8],\n",
    "], [\n",
    "    [.7, .2, .1],\n",
    "    [.1, .1, .8],\n",
    "    [.7, .2, .1],\n",
    "    [.1, .1, .8],\n",
    "]])\n",
    "\n",
    "axis = 2\n",
    "size = 3\n",
    "\n",
    "ratings_range = tf.range(1, 3+1, dtype=tf.float32)\n",
    "\n",
    "Σ = tf.reduce_sum(x * ratings_range, axis=axis)\n",
    "print(Σ.eval())\n",
    "expectation = tf.cast(tf.round(Σ), tf.int32).eval()\n",
    "expectation"
   ]
  },
  {
   "cell_type": "code",
   "execution_count": 11,
   "metadata": {},
   "outputs": [
    {
     "data": {
      "text/plain": [
       "array([[[0., 1., 0.],\n",
       "        [0., 0., 1.],\n",
       "        [0., 0., 1.],\n",
       "        [0., 0., 1.]],\n",
       "\n",
       "       [[1., 0., 0.],\n",
       "        [0., 0., 1.],\n",
       "        [1., 0., 0.],\n",
       "        [0., 0., 1.]]], dtype=float32)"
      ]
     },
     "execution_count": 11,
     "metadata": {},
     "output_type": "execute_result"
    }
   ],
   "source": [
    "tf.one_hot(expectation-1, depth=3).eval()"
   ]
  },
  {
   "cell_type": "markdown",
   "metadata": {},
   "source": [
    "## Top k"
   ]
  },
  {
   "cell_type": "code",
   "execution_count": 12,
   "metadata": {},
   "outputs": [
    {
     "name": "stdout",
     "output_type": "stream",
     "text": [
      "[[[0.12584028 0.7189191  0.15524063]\n",
      "  [0.07883426 0.725881   0.1952848 ]\n",
      "  [0.28008157 0.43409774 0.28582066]\n",
      "  [0.32059222 0.24171223 0.43769553]]\n",
      "\n",
      " [[0.07457197 0.01979918 0.9056288 ]\n",
      "  [0.16013639 0.71088207 0.12898158]\n",
      "  [0.7697683  0.13352703 0.09670465]\n",
      "  [0.03156377 0.93171567 0.03672057]]]\n"
     ]
    },
    {
     "data": {
      "text/plain": [
       "array([[[2, 1],\n",
       "        [2, 1],\n",
       "        [2, 1],\n",
       "        [0, 2]],\n",
       "\n",
       "       [[0, 2],\n",
       "        [0, 1],\n",
       "        [1, 0],\n",
       "        [2, 1]]], dtype=int32)"
      ]
     },
     "execution_count": 12,
     "metadata": {},
     "output_type": "execute_result"
    }
   ],
   "source": [
    "example = probability.eval()\n",
    "print(example)\n",
    "\n",
    "values, index = tf.nn.top_k(example, k=2, sorted=False, name=None)\n",
    "index.eval()"
   ]
  },
  {
   "cell_type": "code",
   "execution_count": 13,
   "metadata": {},
   "outputs": [
    {
     "name": "stdout",
     "output_type": "stream",
     "text": [
      "[[[[0. 0. 1.]\n",
      "   [0. 1. 0.]]\n",
      "\n",
      "  [[0. 0. 1.]\n",
      "   [0. 1. 0.]]\n",
      "\n",
      "  [[0. 0. 1.]\n",
      "   [0. 1. 0.]]\n",
      "\n",
      "  [[1. 0. 0.]\n",
      "   [0. 0. 1.]]]\n",
      "\n",
      "\n",
      " [[[1. 0. 0.]\n",
      "   [0. 0. 1.]]\n",
      "\n",
      "  [[1. 0. 0.]\n",
      "   [0. 1. 0.]]\n",
      "\n",
      "  [[0. 1. 0.]\n",
      "   [1. 0. 0.]]\n",
      "\n",
      "  [[0. 0. 1.]\n",
      "   [0. 1. 0.]]]]\n"
     ]
    },
    {
     "data": {
      "text/plain": [
       "array([[[0., 1., 1.],\n",
       "        [0., 1., 1.],\n",
       "        [0., 1., 1.],\n",
       "        [1., 0., 1.]],\n",
       "\n",
       "       [[1., 0., 1.],\n",
       "        [1., 1., 0.],\n",
       "        [1., 1., 0.],\n",
       "        [0., 1., 1.]]], dtype=float32)"
      ]
     },
     "execution_count": 13,
     "metadata": {},
     "output_type": "execute_result"
    }
   ],
   "source": [
    "result = tf.one_hot(index, depth=3).eval()\n",
    "print(result)\n",
    "\n",
    "tf.reduce_sum(result, axis=2).eval()"
   ]
  }
 ],
 "metadata": {
  "kernelspec": {
   "display_name": "Python 3",
   "language": "python",
   "name": "python3"
  },
  "language_info": {
   "codemirror_mode": {
    "name": "ipython",
    "version": 3
   },
   "file_extension": ".py",
   "mimetype": "text/x-python",
   "name": "python",
   "nbconvert_exporter": "python",
   "pygments_lexer": "ipython3",
   "version": "3.6.6"
  }
 },
 "nbformat": 4,
 "nbformat_minor": 2
}
