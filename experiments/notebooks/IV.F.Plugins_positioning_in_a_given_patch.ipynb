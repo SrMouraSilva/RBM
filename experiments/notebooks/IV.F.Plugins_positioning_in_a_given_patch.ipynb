{
 "cells": [
  {
   "cell_type": "code",
   "execution_count": 1,
   "metadata": {},
   "outputs": [
    {
     "data": {
      "text/html": [
       "<div>\n",
       "<style scoped>\n",
       "    .dataframe tbody tr th:only-of-type {\n",
       "        vertical-align: middle;\n",
       "    }\n",
       "\n",
       "    .dataframe tbody tr th {\n",
       "        vertical-align: top;\n",
       "    }\n",
       "\n",
       "    .dataframe thead th {\n",
       "        text-align: right;\n",
       "    }\n",
       "</style>\n",
       "<table border=\"1\" class=\"dataframe\">\n",
       "  <thead>\n",
       "    <tr style=\"text-align: right;\">\n",
       "      <th></th>\n",
       "      <th>fold</th>\n",
       "      <th>metric</th>\n",
       "      <th>missing</th>\n",
       "      <th>value</th>\n",
       "      <th>y</th>\n",
       "      <th>total_items_permutated</th>\n",
       "    </tr>\n",
       "  </thead>\n",
       "  <tbody>\n",
       "    <tr>\n",
       "      <th>0</th>\n",
       "      <td>0</td>\n",
       "      <td>permutations</td>\n",
       "      <td>set()</td>\n",
       "      <td>0.775982</td>\n",
       "      <td>{0, 1}</td>\n",
       "      <td>2</td>\n",
       "    </tr>\n",
       "    <tr>\n",
       "      <th>1</th>\n",
       "      <td>0</td>\n",
       "      <td>permutations</td>\n",
       "      <td>set()</td>\n",
       "      <td>0.879908</td>\n",
       "      <td>{0, 2}</td>\n",
       "      <td>2</td>\n",
       "    </tr>\n",
       "    <tr>\n",
       "      <th>2</th>\n",
       "      <td>0</td>\n",
       "      <td>permutations</td>\n",
       "      <td>set()</td>\n",
       "      <td>0.933025</td>\n",
       "      <td>{0, 3}</td>\n",
       "      <td>2</td>\n",
       "    </tr>\n",
       "    <tr>\n",
       "      <th>3</th>\n",
       "      <td>0</td>\n",
       "      <td>permutations</td>\n",
       "      <td>set()</td>\n",
       "      <td>0.967667</td>\n",
       "      <td>{0, 4}</td>\n",
       "      <td>2</td>\n",
       "    </tr>\n",
       "    <tr>\n",
       "      <th>4</th>\n",
       "      <td>0</td>\n",
       "      <td>permutations</td>\n",
       "      <td>set()</td>\n",
       "      <td>0.974596</td>\n",
       "      <td>{0, 5}</td>\n",
       "      <td>2</td>\n",
       "    </tr>\n",
       "  </tbody>\n",
       "</table>\n",
       "</div>"
      ],
      "text/plain": [
       "   fold        metric missing     value       y  total_items_permutated\n",
       "0     0  permutations   set()  0.775982  {0, 1}                       2\n",
       "1     0  permutations   set()  0.879908  {0, 2}                       2\n",
       "2     0  permutations   set()  0.933025  {0, 3}                       2\n",
       "3     0  permutations   set()  0.967667  {0, 4}                       2\n",
       "4     0  permutations   set()  0.974596  {0, 5}                       2"
      ]
     },
     "execution_count": 1,
     "metadata": {},
     "output_type": "execute_result"
    }
   ],
   "source": [
    "%matplotlib inline\n",
    "import numpy as np\n",
    "import pandas as pd\n",
    "\n",
    "import matplotlib.pyplot as plt\n",
    "from rcparams import update_style\n",
    "\n",
    "data = pd.read_csv('../rbm_results-permutation.csv', index_col=0)\n",
    "\n",
    "data['total_items_permutated'] = data['y'].str.split(',').str.len()\n",
    "data.head()"
   ]
  },
  {
   "cell_type": "code",
   "execution_count": 2,
   "metadata": {},
   "outputs": [
    {
     "data": {
      "text/html": [
       "<div>\n",
       "<style scoped>\n",
       "    .dataframe tbody tr th:only-of-type {\n",
       "        vertical-align: middle;\n",
       "    }\n",
       "\n",
       "    .dataframe tbody tr th {\n",
       "        vertical-align: top;\n",
       "    }\n",
       "\n",
       "    .dataframe thead th {\n",
       "        text-align: right;\n",
       "    }\n",
       "</style>\n",
       "<table border=\"1\" class=\"dataframe\">\n",
       "  <thead>\n",
       "    <tr style=\"text-align: right;\">\n",
       "      <th></th>\n",
       "      <th>mean</th>\n",
       "      <th>std</th>\n",
       "    </tr>\n",
       "    <tr>\n",
       "      <th>total_items_permutated</th>\n",
       "      <th></th>\n",
       "      <th></th>\n",
       "    </tr>\n",
       "  </thead>\n",
       "  <tbody>\n",
       "    <tr>\n",
       "      <th>2</th>\n",
       "      <td>0.897795</td>\n",
       "      <td>0.072441</td>\n",
       "    </tr>\n",
       "    <tr>\n",
       "      <th>3</th>\n",
       "      <td>0.818628</td>\n",
       "      <td>0.069475</td>\n",
       "    </tr>\n",
       "    <tr>\n",
       "      <th>4</th>\n",
       "      <td>0.752232</td>\n",
       "      <td>0.060185</td>\n",
       "    </tr>\n",
       "    <tr>\n",
       "      <th>5</th>\n",
       "      <td>0.693879</td>\n",
       "      <td>0.046010</td>\n",
       "    </tr>\n",
       "    <tr>\n",
       "      <th>6</th>\n",
       "      <td>0.637208</td>\n",
       "      <td>0.012534</td>\n",
       "    </tr>\n",
       "  </tbody>\n",
       "</table>\n",
       "</div>"
      ],
      "text/plain": [
       "                            mean       std\n",
       "total_items_permutated                    \n",
       "2                       0.897795  0.072441\n",
       "3                       0.818628  0.069475\n",
       "4                       0.752232  0.060185\n",
       "5                       0.693879  0.046010\n",
       "6                       0.637208  0.012534"
      ]
     },
     "execution_count": 2,
     "metadata": {},
     "output_type": "execute_result"
    }
   ],
   "source": [
    "df = data.groupby(['total_items_permutated'])['value'].agg([\"mean\", \"std\"])\n",
    "df.to_csv('output/plugins-positioning.csv')\n",
    "df"
   ]
  },
  {
   "cell_type": "code",
   "execution_count": 3,
   "metadata": {},
   "outputs": [
    {
     "data": {
      "image/png": "[encoded data removed]",
      "text/plain": [
       "<Figure size 345.6x259.2 with 1 Axes>"
      ]
     },
     "metadata": {},
     "output_type": "display_data"
    }
   ],
   "source": [
    "import matplotlib.font_manager\n",
    "matplotlib.font_manager.findSystemFonts(fontpaths=None, fontext='ttf')\n",
    "\n",
    "from itertools import combinations\n",
    "\n",
    "update_style()\n",
    "\n",
    "plt.figure(figsize=(8*.6, 6*.6))\n",
    "\n",
    "plt.errorbar(y=df['mean'], x=df.index, yerr=df['std'], fmt='o', color=\"#333333\", ecolor='#666666', capsize=5, elinewidth=1, markeredgewidth=1)\n",
    "plt.xlim([1.8, 6.2])\n",
    "plt.ylim([.58, 1])\n",
    "\n",
    "#plt.gca().set_xlabel('Número de posições a serem ordenadas')\n",
    "plt.gca().set_xlabel('# of missing entries')\n",
    "#plt.gca().set_ylabel('Acurácia')\n",
    "plt.gca().set_ylabel('Accuracy')\n",
    "plt.gca().set_yticklabels(['{:3.1f}'.format(x*100) for x in plt.gca().get_yticks()])\n",
    "\n",
    "plt.gca().get_figure().savefig(\"output/permutations.pdf\", bbox_inches='tight')"
   ]
  }
 ],
 "metadata": {
  "kernelspec": {
   "display_name": "Python 3",
   "language": "python",
   "name": "python3"
  },
  "language_info": {
   "codemirror_mode": {
    "name": "ipython",
    "version": 3
   },
   "file_extension": ".py",
   "mimetype": "text/x-python",
   "name": "python",
   "nbconvert_exporter": "python",
   "pygments_lexer": "ipython3",
   "version": "3.6.8"
  }
 },
 "nbformat": 4,
 "nbformat_minor": 4
}
