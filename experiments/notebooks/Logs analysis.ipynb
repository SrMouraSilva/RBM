{
 "cells": [
  {
   "cell_type": "markdown",
   "metadata": {},
   "source": [
    "# Logs analysis"
   ]
  },
  {
   "cell_type": "code",
   "execution_count": 1,
   "metadata": {},
   "outputs": [],
   "source": [
    "%matplotlib inline\n",
    "from tensorboard.backend.event_processing.event_accumulator import EventAccumulator\n",
    "import pandas as pd\n",
    "import re"
   ]
  },
  {
   "cell_type": "markdown",
   "metadata": {},
   "source": [
    "## List all logs files"
   ]
  },
  {
   "cell_type": "code",
   "execution_count": 2,
   "metadata": {},
   "outputs": [
    {
     "data": {
      "text/plain": [
       "['../results/logs/batch_size=100/class=RBMCF/visible_size=702/hidden_size=100/regularization=NoRegularization-0.0/learning_rate=ConstantLearningRate-0.01/sampling_method=CD-1/momentum=1/1542219439.61487/events.out.tfevents.1542219442.paulo-notebook',\n",
       " '../results/logs/batch_size=100/class=RBMCF/visible_size=702/hidden_size=100/regularization=NoRegularization-0.0/learning_rate=ConstantLearningRate-0.01/sampling_method=CD-1/momentum=0.9/1542219284.007691/events.out.tfevents.1542219286.paulo-notebook',\n",
       " '../results/logs/batch_size=100/class=RBMCF/visible_size=702/hidden_size=100/regularization=NoRegularization-0.0/learning_rate=ConstantLearningRate-0.01/sampling_method=CD-5/momentum=1/1542220276.1884933/events.out.tfevents.1542220279.paulo-notebook']"
      ]
     },
     "execution_count": 2,
     "metadata": {},
     "output_type": "execute_result"
    }
   ],
   "source": [
    "import glob\n",
    "files = glob.glob('../results/logs/**/events.out.tfevents.*', recursive=True)\n",
    "\n",
    "files[0:3]"
   ]
  },
  {
   "cell_type": "markdown",
   "metadata": {},
   "source": [
    "## Read a file"
   ]
  },
  {
   "cell_type": "code",
   "execution_count": 3,
   "metadata": {},
   "outputs": [
    {
     "data": {
      "text/html": [
       "<div>\n",
       "<style scoped>\n",
       "    .dataframe tbody tr th:only-of-type {\n",
       "        vertical-align: middle;\n",
       "    }\n",
       "\n",
       "    .dataframe tbody tr th {\n",
       "        vertical-align: top;\n",
       "    }\n",
       "\n",
       "    .dataframe thead th {\n",
       "        text-align: right;\n",
       "    }\n",
       "</style>\n",
       "<table border=\"1\" class=\"dataframe\">\n",
       "  <thead>\n",
       "    <tr style=\"text-align: right;\">\n",
       "      <th></th>\n",
       "      <th>wall_time</th>\n",
       "      <th>step</th>\n",
       "      <th>value</th>\n",
       "    </tr>\n",
       "  </thead>\n",
       "  <tbody>\n",
       "    <tr>\n",
       "      <th>0</th>\n",
       "      <td>1.542219e+09</td>\n",
       "      <td>1</td>\n",
       "      <td>0.005898</td>\n",
       "    </tr>\n",
       "    <tr>\n",
       "      <th>1</th>\n",
       "      <td>1.542219e+09</td>\n",
       "      <td>26</td>\n",
       "      <td>0.019753</td>\n",
       "    </tr>\n",
       "    <tr>\n",
       "      <th>2</th>\n",
       "      <td>1.542219e+09</td>\n",
       "      <td>51</td>\n",
       "      <td>0.009191</td>\n",
       "    </tr>\n",
       "    <tr>\n",
       "      <th>3</th>\n",
       "      <td>1.542219e+09</td>\n",
       "      <td>76</td>\n",
       "      <td>0.015775</td>\n",
       "    </tr>\n",
       "    <tr>\n",
       "      <th>4</th>\n",
       "      <td>1.542219e+09</td>\n",
       "      <td>101</td>\n",
       "      <td>0.015912</td>\n",
       "    </tr>\n",
       "  </tbody>\n",
       "</table>\n",
       "</div>"
      ],
      "text/plain": [
       "      wall_time  step     value\n",
       "0  1.542219e+09     1  0.005898\n",
       "1  1.542219e+09    26  0.019753\n",
       "2  1.542219e+09    51  0.009191\n",
       "3  1.542219e+09    76  0.015775\n",
       "4  1.542219e+09   101  0.015912"
      ]
     },
     "execution_count": 3,
     "metadata": {},
     "output_type": "execute_result"
    }
   ],
   "source": [
    "file = files[0]\n",
    "\n",
    "def extract_information(file):\n",
    "    ea = EventAccumulator(file)\n",
    "    ea.Reload()\n",
    "\n",
    "    train = pd.DataFrame(ea.Scalars('measure/evaluate/train'))\n",
    "    validation = pd.DataFrame(ea.Scalars('measure/evaluate/validation'))\n",
    "    return train, validation\n",
    "\n",
    "train, validation = extract_information(file)\n",
    "train.head()"
   ]
  },
  {
   "cell_type": "code",
   "execution_count": 4,
   "metadata": {},
   "outputs": [],
   "source": [
    "def extract_columns(file):\n",
    "    regex = r'(.+?)=(.+?)\\/'\n",
    "    test_str = file.replace('../results/logs/', '')\n",
    "    matches = re.finditer(regex, test_str, re.MULTILINE)\n",
    "\n",
    "    return {match.groups()[0]: match.groups()[1] for match in matches}\n",
    "\n",
    "def populate_columns(file, dataframe, data_type):\n",
    "    dataframe['data_type'] = data_type\n",
    "    columns = extract_columns(file)\n",
    "    \n",
    "    for k, v in columns.items():\n",
    "        dataframe[k] = v\n",
    "\n",
    "    return dataframe"
   ]
  },
  {
   "cell_type": "code",
   "execution_count": 5,
   "metadata": {},
   "outputs": [],
   "source": [
    "def generate_logs_files(files):\n",
    "    trains = []\n",
    "    validations = []\n",
    "\n",
    "    for file in files:\n",
    "        train, validation = extract_information(file)\n",
    "        train = populate_columns(file, train, 'train')\n",
    "        validation = populate_columns(file, train, 'validation')\n",
    "        \n",
    "        trains.append(train)\n",
    "        validations.append(validation)\n",
    "        \n",
    "    trains = pd.concat(trains)\n",
    "    validations = pd.concat(validations)\n",
    "    \n",
    "    return trains, validations\n",
    "\n",
    "trains, validations = generate_logs_files(files)"
   ]
  },
  {
   "cell_type": "code",
   "execution_count": 6,
   "metadata": {},
   "outputs": [
    {
     "data": {
      "text/html": [
       "<div>\n",
       "<style scoped>\n",
       "    .dataframe tbody tr th:only-of-type {\n",
       "        vertical-align: middle;\n",
       "    }\n",
       "\n",
       "    .dataframe tbody tr th {\n",
       "        vertical-align: top;\n",
       "    }\n",
       "\n",
       "    .dataframe thead th {\n",
       "        text-align: right;\n",
       "    }\n",
       "</style>\n",
       "<table border=\"1\" class=\"dataframe\">\n",
       "  <thead>\n",
       "    <tr style=\"text-align: right;\">\n",
       "      <th></th>\n",
       "      <th>wall_time</th>\n",
       "      <th>step</th>\n",
       "      <th>value</th>\n",
       "      <th>data_type</th>\n",
       "      <th>batch_size</th>\n",
       "      <th>class</th>\n",
       "      <th>visible_size</th>\n",
       "      <th>hidden_size</th>\n",
       "      <th>regularization</th>\n",
       "      <th>learning_rate</th>\n",
       "      <th>sampling_method</th>\n",
       "      <th>momentum</th>\n",
       "    </tr>\n",
       "  </thead>\n",
       "  <tbody>\n",
       "    <tr>\n",
       "      <th>0</th>\n",
       "      <td>1.542219e+09</td>\n",
       "      <td>1</td>\n",
       "      <td>0.005898</td>\n",
       "      <td>validation</td>\n",
       "      <td>100</td>\n",
       "      <td>RBMCF</td>\n",
       "      <td>702</td>\n",
       "      <td>100</td>\n",
       "      <td>NoRegularization-0.0</td>\n",
       "      <td>ConstantLearningRate-0.01</td>\n",
       "      <td>CD-1</td>\n",
       "      <td>1</td>\n",
       "    </tr>\n",
       "    <tr>\n",
       "      <th>1</th>\n",
       "      <td>1.542219e+09</td>\n",
       "      <td>26</td>\n",
       "      <td>0.019753</td>\n",
       "      <td>validation</td>\n",
       "      <td>100</td>\n",
       "      <td>RBMCF</td>\n",
       "      <td>702</td>\n",
       "      <td>100</td>\n",
       "      <td>NoRegularization-0.0</td>\n",
       "      <td>ConstantLearningRate-0.01</td>\n",
       "      <td>CD-1</td>\n",
       "      <td>1</td>\n",
       "    </tr>\n",
       "    <tr>\n",
       "      <th>2</th>\n",
       "      <td>1.542219e+09</td>\n",
       "      <td>51</td>\n",
       "      <td>0.009191</td>\n",
       "      <td>validation</td>\n",
       "      <td>100</td>\n",
       "      <td>RBMCF</td>\n",
       "      <td>702</td>\n",
       "      <td>100</td>\n",
       "      <td>NoRegularization-0.0</td>\n",
       "      <td>ConstantLearningRate-0.01</td>\n",
       "      <td>CD-1</td>\n",
       "      <td>1</td>\n",
       "    </tr>\n",
       "    <tr>\n",
       "      <th>3</th>\n",
       "      <td>1.542219e+09</td>\n",
       "      <td>76</td>\n",
       "      <td>0.015775</td>\n",
       "      <td>validation</td>\n",
       "      <td>100</td>\n",
       "      <td>RBMCF</td>\n",
       "      <td>702</td>\n",
       "      <td>100</td>\n",
       "      <td>NoRegularization-0.0</td>\n",
       "      <td>ConstantLearningRate-0.01</td>\n",
       "      <td>CD-1</td>\n",
       "      <td>1</td>\n",
       "    </tr>\n",
       "    <tr>\n",
       "      <th>4</th>\n",
       "      <td>1.542219e+09</td>\n",
       "      <td>101</td>\n",
       "      <td>0.015912</td>\n",
       "      <td>validation</td>\n",
       "      <td>100</td>\n",
       "      <td>RBMCF</td>\n",
       "      <td>702</td>\n",
       "      <td>100</td>\n",
       "      <td>NoRegularization-0.0</td>\n",
       "      <td>ConstantLearningRate-0.01</td>\n",
       "      <td>CD-1</td>\n",
       "      <td>1</td>\n",
       "    </tr>\n",
       "  </tbody>\n",
       "</table>\n",
       "</div>"
      ],
      "text/plain": [
       "      wall_time  step     value   data_type batch_size  class visible_size  \\\n",
       "0  1.542219e+09     1  0.005898  validation        100  RBMCF          702   \n",
       "1  1.542219e+09    26  0.019753  validation        100  RBMCF          702   \n",
       "2  1.542219e+09    51  0.009191  validation        100  RBMCF          702   \n",
       "3  1.542219e+09    76  0.015775  validation        100  RBMCF          702   \n",
       "4  1.542219e+09   101  0.015912  validation        100  RBMCF          702   \n",
       "\n",
       "  hidden_size        regularization              learning_rate  \\\n",
       "0         100  NoRegularization-0.0  ConstantLearningRate-0.01   \n",
       "1         100  NoRegularization-0.0  ConstantLearningRate-0.01   \n",
       "2         100  NoRegularization-0.0  ConstantLearningRate-0.01   \n",
       "3         100  NoRegularization-0.0  ConstantLearningRate-0.01   \n",
       "4         100  NoRegularization-0.0  ConstantLearningRate-0.01   \n",
       "\n",
       "  sampling_method momentum  \n",
       "0            CD-1        1  \n",
       "1            CD-1        1  \n",
       "2            CD-1        1  \n",
       "3            CD-1        1  \n",
       "4            CD-1        1  "
      ]
     },
     "execution_count": 6,
     "metadata": {},
     "output_type": "execute_result"
    }
   ],
   "source": [
    "trains.head(5)"
   ]
  },
  {
   "cell_type": "code",
   "execution_count": null,
   "metadata": {},
   "outputs": [],
   "source": []
  }
 ],
 "metadata": {
  "kernelspec": {
   "display_name": "Python 3",
   "language": "python",
   "name": "python3"
  },
  "language_info": {
   "codemirror_mode": {
    "name": "ipython",
    "version": 3
   },
   "file_extension": ".py",
   "mimetype": "text/x-python",
   "name": "python",
   "nbconvert_exporter": "python",
   "pygments_lexer": "ipython3",
   "version": "3.6.6"
  }
 },
 "nbformat": 4,
 "nbformat_minor": 2
}
